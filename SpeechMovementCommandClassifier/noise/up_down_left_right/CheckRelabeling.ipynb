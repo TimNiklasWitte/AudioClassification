{
 "cells": [
  {
   "cell_type": "code",
   "execution_count": 1,
   "id": "03ffb2e7-4836-40ab-8fd7-a8432c23f87f",
   "metadata": {},
   "outputs": [
    {
     "name": "stderr",
     "output_type": "stream",
     "text": [
      "2024-05-16 10:32:46.214014: I tensorflow/core/platform/cpu_feature_guard.cc:210] This TensorFlow binary is optimized to use available CPU instructions in performance-critical operations.\n",
      "To enable the following instructions: AVX2 FMA, in other operations, rebuild TensorFlow with the appropriate compiler flags.\n",
      "2024-05-16 10:32:46.707929: W tensorflow/compiler/tf2tensorrt/utils/py_utils.cc:38] TF-TRT Warning: Could not find TensorRT\n"
     ]
    }
   ],
   "source": [
    "import tensorflow as tf\n",
    "import os\n",
    "import IPython.display as ipd"
   ]
  },
  {
   "cell_type": "code",
   "execution_count": 2,
   "id": "12d1ae7b-599c-42ec-8acc-fca7be1dce4b",
   "metadata": {},
   "outputs": [
    {
     "ename": "FileNotFoundError",
     "evalue": "[Errno 2] No such file or directory: './speech_commands_v0.02'",
     "output_type": "error",
     "traceback": [
      "\u001b[0;31m---------------------------------------------------------------------------\u001b[0m",
      "\u001b[0;31mFileNotFoundError\u001b[0m                         Traceback (most recent call last)",
      "Cell \u001b[0;32mIn[2], line 2\u001b[0m\n\u001b[1;32m      1\u001b[0m \u001b[38;5;66;03m# alphanumeric order\u001b[39;00m\n\u001b[0;32m----> 2\u001b[0m labels \u001b[38;5;241m=\u001b[39m \u001b[38;5;28msorted\u001b[39m(\u001b[43mos\u001b[49m\u001b[38;5;241;43m.\u001b[39;49m\u001b[43mlistdir\u001b[49m\u001b[43m(\u001b[49m\u001b[38;5;124;43m\"\u001b[39;49m\u001b[38;5;124;43m./speech_commands_v0.02\u001b[39;49m\u001b[38;5;124;43m\"\u001b[39;49m\u001b[43m)\u001b[49m)\n\u001b[1;32m      4\u001b[0m idx_label_dict \u001b[38;5;241m=\u001b[39m {label: idx \u001b[38;5;28;01mfor\u001b[39;00m idx, label \u001b[38;5;129;01min\u001b[39;00m \u001b[38;5;28menumerate\u001b[39m(labels)}\n\u001b[1;32m      6\u001b[0m up_label \u001b[38;5;241m=\u001b[39m idx_label_dict[\u001b[38;5;124m\"\u001b[39m\u001b[38;5;124mup\u001b[39m\u001b[38;5;124m\"\u001b[39m]\n",
      "\u001b[0;31mFileNotFoundError\u001b[0m: [Errno 2] No such file or directory: './speech_commands_v0.02'"
     ]
    }
   ],
   "source": [
    "# alphanumeric order\n",
    "labels = sorted(os.listdir(\"./../../speech_commands_v0.02\"))\n",
    "\n",
    "idx_label_dict = {label: idx for idx, label in enumerate(labels)}\n",
    "    \n",
    "up_label = idx_label_dict[\"up\"]\n",
    "down_label = idx_label_dict[\"down\"]\n",
    "right_label = idx_label_dict[\"right\"]\n",
    "left_label = idx_label_dict[\"left\"]"
   ]
  },
  {
   "cell_type": "code",
   "execution_count": null,
   "id": "dc4db774-8341-4320-93a2-2598be5ad059",
   "metadata": {},
   "outputs": [],
   "source": [
    "train_ds, test_ds = tf.keras.utils.audio_dataset_from_directory(\n",
    "                            directory=\"./speech_commands_v0.02\",\n",
    "                            batch_size=None,\n",
    "                            validation_split=0.2,\n",
    "                            seed=0,\n",
    "                            output_sequence_length=16000,\n",
    "                            subset='both'\n",
    "                        )"
   ]
  },
  {
   "cell_type": "code",
   "execution_count": null,
   "id": "790ef5ea-3cf8-4e2a-87b6-ded05a67123c",
   "metadata": {},
   "outputs": [],
   "source": [
    "def relabel(label):\n",
    "\n",
    "    if label == up_label:\n",
    "        return 0\n",
    "    elif label == right_label:\n",
    "        return 1\n",
    "    elif label == down_label:\n",
    "        return 2\n",
    "    elif label == left_label:\n",
    "        return 3\n",
    "    else:\n",
    "        return 4\n",
    "\n",
    "def prepare_data(dataset):\n",
    "\n",
    "    dataset = dataset.map(lambda wav, label: (wav, relabel(label)))\n",
    "\n",
    "    # Flatten: (num_samples, 1) -> (num_samples)\n",
    "    dataset = dataset.map(lambda wav, label: (tf.reshape(wav, (-1,)), label))\n",
    "\n",
    "    # # Spectrogram (height, width, 1)\n",
    "    # dataset = dataset.map(lambda wav, label:(get_spectrogram(wav), label))\n",
    "\n",
    "    # # One hot target\n",
    "    # dataset = dataset.map(lambda spectrogram, label: (spectrogram, tf.one_hot(label, depth=8)))\n",
    "\n",
    "    # # Cache\n",
    "    # dataset = dataset.cache()\n",
    "    \n",
    "    # #\n",
    "    # # Shuffle, batch, prefetch\n",
    "    # #\n",
    "    # dataset = dataset.shuffle(1000)\n",
    "    # dataset = dataset.batch(BATCH_SIZE)\n",
    "    # dataset = dataset.prefetch(tf.data.experimental.AUTOTUNE)\n",
    "\n",
    "    return dataset"
   ]
  },
  {
   "cell_type": "code",
   "execution_count": null,
   "id": "0f670864-a893-4d54-a10e-997f913bec96",
   "metadata": {},
   "outputs": [],
   "source": [
    "train_ds = train_ds.apply(prepare_data)"
   ]
  },
  {
   "cell_type": "code",
   "execution_count": null,
   "id": "aa2d7367-7d29-4ac3-a312-c8009a67f99f",
   "metadata": {},
   "outputs": [],
   "source": [
    "for wav, label in train_ds.take(50):\n",
    "    print(label)\n",
    "    ipd.display(ipd.Audio(wav, rate=16000))"
   ]
  },
  {
   "cell_type": "code",
   "execution_count": null,
   "id": "89409fd8-e0f1-4fca-92a5-dc381d31c3c8",
   "metadata": {},
   "outputs": [],
   "source": []
  }
 ],
 "metadata": {
  "kernelspec": {
   "display_name": "Python 3 (ipykernel)",
   "language": "python",
   "name": "python3"
  },
  "language_info": {
   "codemirror_mode": {
    "name": "ipython",
    "version": 3
   },
   "file_extension": ".py",
   "mimetype": "text/x-python",
   "name": "python",
   "nbconvert_exporter": "python",
   "pygments_lexer": "ipython3",
   "version": "3.10.12"
  }
 },
 "nbformat": 4,
 "nbformat_minor": 5
}
